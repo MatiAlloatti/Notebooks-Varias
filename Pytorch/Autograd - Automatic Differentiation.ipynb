{
 "cells": [
  {
   "cell_type": "markdown",
   "metadata": {},
   "source": [
    "------\n",
    "# Autograd: Automatic Differentiation\n",
    "\n",
    "The autograd package provides automatic differentiation for all operations on Tensors. It is a define-by-run framework, which means that your backprop is defined by how your code is run, and that every single iteration can be different.\n",
    "\n",
    "`torch.Tensor` is the central class of the package. If you set its attribute `.requires_grad` as `True`, it starts to track all operations on it. When you finish your computation you can call `.backward()` and have all the gradients computed automatically. The gradient for this tensor will be accumulated into `.grad` attribute.\n",
    "\n",
    "To stop a tensor from tracking history, you can call `.detach()` to detach it from the computation history, and to prevent future computation from being tracked.\n",
    "\n",
    "To prevent tracking history (and using memory), you can also wrap the code block in `with torch.no_grad()`:. This can be particularly helpful when evaluating a model because the model may have trainable parameters with `requires_grad=True`, but for which we don’t need the gradients.\n",
    "\n",
    "There’s one more class which is very important for autograd implementation - a `Function`.\n",
    "\n",
    "`Tensor` and `Function` are interconnected and build up an acyclic graph, that encodes a complete history of computation. Each tensor has a .grad_fn attribute that references a Function that has created the Tensor (except for Tensors created by the user - their grad_fn is None)are interconnected and build up an acyclic graph, that encodes a complete history of computation. Each tensor has a `.grad_fn` attribute that references a `Function` that has created the `Tensor` (except for Tensors created by the user - their `grad_fn is None`).\n",
    "\n",
    "If you want to compute the derivatives, you can call `.backward()` on a `Tensor`. If `Tensor` is a scalar (i.e. it holds a one element data), you don’t need to specify any arguments to `backward()`, however if it has more elements, you need to specify a `gradient` argument that is a tensor of matching shape."
   ]
  },
  {
   "cell_type": "code",
   "execution_count": 2,
   "metadata": {},
   "outputs": [],
   "source": [
    "import torch"
   ]
  },
  {
   "cell_type": "code",
   "execution_count": 3,
   "metadata": {},
   "outputs": [
    {
     "name": "stdout",
     "output_type": "stream",
     "text": [
      "tensor([[1., 1.],\n",
      "        [1., 1.]], requires_grad=True)\n"
     ]
    }
   ],
   "source": [
    "# Create a tensor and set requires_grad=True to track computation with it:\n",
    "x = torch.ones(2, 2, requires_grad=True)\n",
    "print(x)"
   ]
  },
  {
   "cell_type": "code",
   "execution_count": 4,
   "metadata": {},
   "outputs": [
    {
     "name": "stdout",
     "output_type": "stream",
     "text": [
      "tensor([[3., 3.],\n",
      "        [3., 3.]], grad_fn=<AddBackward0>)\n"
     ]
    }
   ],
   "source": [
    "# Do a tensor operation:\n",
    "y = x + 2\n",
    "print(y)"
   ]
  },
  {
   "cell_type": "code",
   "execution_count": 5,
   "metadata": {},
   "outputs": [
    {
     "name": "stdout",
     "output_type": "stream",
     "text": [
      "<AddBackward0 object at 0x7f86cc835590>\n"
     ]
    }
   ],
   "source": [
    "# y was created as a result of an operation, so it has a grad_fn:\n",
    "print(y.grad_fn)"
   ]
  },
  {
   "cell_type": "code",
   "execution_count": 6,
   "metadata": {},
   "outputs": [
    {
     "name": "stdout",
     "output_type": "stream",
     "text": [
      "tensor([[27., 27.],\n",
      "        [27., 27.]], grad_fn=<MulBackward0>) tensor(27., grad_fn=<MeanBackward0>)\n"
     ]
    }
   ],
   "source": [
    "# Do more operations on y:\n",
    "z = y * y * 3\n",
    "out = z.mean()\n",
    "\n",
    "print(z, out)"
   ]
  },
  {
   "cell_type": "code",
   "execution_count": 7,
   "metadata": {},
   "outputs": [
    {
     "name": "stdout",
     "output_type": "stream",
     "text": [
      ".requires_grad?  False\n",
      ".requires_grad?  True\n",
      "<SumBackward0 object at 0x7f86e8498ed0>\n"
     ]
    }
   ],
   "source": [
    "# .requires_grad_( ... ) changes an existing Tensor’s requires_grad flag in-place.\n",
    "# like all methods ended with _. They all change Tensors in-place\n",
    "# The input flag defaults to False if not given.\n",
    "\n",
    "a = torch.randn(2, 2)\n",
    "a = ((a * 3) / (a - 1))\n",
    "print('.requires_grad? ',a.requires_grad)\n",
    "a.requires_grad_(True)\n",
    "print('.requires_grad? ',a.requires_grad)\n",
    "b = (a * a).sum()\n",
    "print(b.grad_fn)"
   ]
  },
  {
   "cell_type": "markdown",
   "metadata": {},
   "source": [
    "### Gradients\n",
    "Let’s backprop now. Because `out` contains a single scalar, `out.backward()` is equivalent to `out.backward(torch.tensor(1.))`. Then we print gradients: d(out)/dx\n",
    "\n",
    "$out=\\frac{1}{4}\\!\\sum_{i}\\!z_{i},\\:\\:z_{i}=3(x_{i}+2)^2\\:$ \n",
    "and \n",
    "$\\:z_{i}\\!\\!∣_{x_{i}=1}=27$ \n",
    ". Therefore, \n",
    "$\\:\\frac{∂o}{∂x_{i}}=32(x_{i}+2)$\n",
    ", hence \n",
    "$\\:\\frac{∂o}{∂x_{i}}\\!\\!∣_{x_{i}=1}=\\frac{9}{2}=4.5$\n",
    "\n",
    "                     ↑  this comes from the operations performed from 5 cells back"
   ]
  },
  {
   "cell_type": "code",
   "execution_count": 13,
   "metadata": {},
   "outputs": [
    {
     "name": "stdout",
     "output_type": "stream",
     "text": [
      "tensor(27., grad_fn=<MeanBackward0>)\n"
     ]
    }
   ],
   "source": [
    "print(out)"
   ]
  },
  {
   "cell_type": "code",
   "execution_count": 9,
   "metadata": {},
   "outputs": [
    {
     "name": "stdout",
     "output_type": "stream",
     "text": [
      "tensor([[4.5000, 4.5000],\n",
      "        [4.5000, 4.5000]])\n"
     ]
    }
   ],
   "source": [
    "out.backward()\n",
    "print(x.grad)"
   ]
  },
  {
   "cell_type": "markdown",
   "metadata": {},
   "source": [
    "Mathematically, if you have a vector valued function $y⃗ =f(x⃗)$, then the gradient of $y⃗$  with respect to $x⃗$  is a Jacobian matrix.\n",
    "\n",
    "$$J=\\begin{pmatrix} \n",
    "\\frac{∂y_{1}}{∂x_{1}} & ... & \\frac{∂y_{m}}{∂x_{1}}\\\\\n",
    "\\vdots & \\ddots & \\vdots \\\\\n",
    "\\frac{∂y_{1}}{∂x_{n}} & ... & \\frac{∂y_{m}}{∂x_{n}}\\\\\n",
    "\\end{pmatrix}$$\n",
    "\n",
    "Generally speaking, `torch.autograd` is an engine for computing vector-Jacobian product. That is, given any vector $v=(v_{1}\\;v_{2}\\; ⋯ v_{m})^T$, compute the product $v^T⋅J$. If $v$ happens to be the gradient of a scalar function $l=g(y⃗)$, that is, $v=(\\frac{∂l}{∂y_{1}} ⋯ \\frac{∂l}{∂y_{m}})^T$, then by the chain rule, the vector-Jacobian product would be the gradient of $l$ with respect to $x⃗$:\n",
    "\n",
    "$$J^T.v=\n",
    "\\begin{pmatrix} \n",
    "\\frac{∂y_{1}}{∂x_{1}} & ... & \\frac{∂y_{m}}{∂x_{1}}\\\\\n",
    "\\vdots & \\ddots & \\vdots \\\\\n",
    "\\frac{∂y_{1}}{∂x_{n}} & ... & \\frac{∂y_{m}}{∂x_{n}}\\\\\n",
    "\\end{pmatrix} \n",
    ".\n",
    "\\begin{pmatrix}\n",
    "\\frac{∂l}{∂y_{1}} \\\\ \\vdots \\\\ \\frac{∂l}{∂y_{m}}\n",
    "\\end{pmatrix}\n",
    "=\n",
    "\\begin{pmatrix}\n",
    "\\frac{∂l}{∂x_{1}} \\\\ \\vdots \\\\ \\frac{∂l}{∂x_{n}}\n",
    "\\end{pmatrix} $$\n",
    "\n",
    "(Note that $v^T⋅J$ gives a row vector which can be treated as a column vector by taking $J^T⋅v$)\n",
    "\n",
    "This characteristic of vector-Jacobian product makes it very convenient to feed external gradients into a model that has non-scalar output."
   ]
  },
  {
   "cell_type": "code",
   "execution_count": 15,
   "metadata": {},
   "outputs": [
    {
     "name": "stdout",
     "output_type": "stream",
     "text": [
      "tensor([-1621.3694,   216.2311,  -566.0414], grad_fn=<MulBackward0>)\n",
      "tensor(1730.8950)\n"
     ]
    }
   ],
   "source": [
    "# Now let’s take a look at an example of vector-Jacobian product:\n",
    "x = torch.randn(3, requires_grad=True)\n",
    "y = x * 2\n",
    "while y.data.norm() < 1000:\n",
    "    y = y * 2\n",
    "print(y)\n",
    "print(y.data.norm())"
   ]
  },
  {
   "cell_type": "code",
   "execution_count": 16,
   "metadata": {},
   "outputs": [
    {
     "name": "stdout",
     "output_type": "stream",
     "text": [
      "tensor([1.0240e+02, 1.0240e+03, 1.0240e-01])\n"
     ]
    }
   ],
   "source": [
    "# Now in this case y is no longer a scalar. torch.autograd could not compute the full Jacobian directly, \n",
    "# but if we just want the vector-Jacobian product, simply pass the vector to backward as argument:\n",
    "v = torch.tensor([0.1, 1.0, 0.0001], dtype=torch.float)\n",
    "y.backward(v)\n",
    "print(x.grad)"
   ]
  },
  {
   "cell_type": "markdown",
   "metadata": {},
   "source": [
    "For the case of backprop the Jacobian would be the derivatives of the loss function wrt W (the weight matrix)\n",
    "\n",
    "$$J_{W}=\\frac{∂ξ}{∂W}=\\begin{pmatrix} \n",
    "\\frac{∂\\,ξ}{∂w_{11}} & ... & \\frac{∂\\,ξ}{∂w_{1j}}\\\\\n",
    "\\vdots & \\ddots & \\vdots \\\\\n",
    "\\frac{∂\\,ξ}{∂w_{i1}} & ... & \\frac{∂\\,ξ}{∂w_{ij}}\\\\\n",
    "\\end{pmatrix}$$"
   ]
  },
  {
   "cell_type": "code",
   "execution_count": 18,
   "metadata": {},
   "outputs": [
    {
     "name": "stdout",
     "output_type": "stream",
     "text": [
      "(1)  x.requires:grad?  True\n",
      "(x**2).requires:grad?  True\n",
      "with torch.no_grad(): (x**2).requires:grad?  False\n",
      "\n",
      "(2)  x.requires:grad?  True\n",
      "y=x.detach(), y.requires:grad?  False\n",
      "x=y in all their elements? tensor(True)\n"
     ]
    }
   ],
   "source": [
    "# You can also stop autograd from tracking history on Tensors with .requires_grad=True either by\n",
    "# (1) wrapping the code block in with torch.no_grad():\n",
    "print('(1) ','x.requires:grad? ', x.requires_grad)\n",
    "print('(x**2).requires:grad? ', (x ** 2).requires_grad)\n",
    "with torch.no_grad():\n",
    "    print('with torch.no_grad(): (x**2).requires:grad? ', (x ** 2).requires_grad)\n",
    "\n",
    "# or (2) by using .detach() to get a new Tensor with the same content but that does not require gradients:\n",
    "print('\\n(2) ','x.requires:grad? ', x.requires_grad)\n",
    "y = x.detach()\n",
    "print('y=x.detach(), y.requires:grad? ', y.requires_grad)\n",
    "print('x=y in all their elements?', x.eq(y).all())"
   ]
  },
  {
   "cell_type": "code",
   "execution_count": null,
   "metadata": {},
   "outputs": [],
   "source": []
  }
 ],
 "metadata": {
  "kernelspec": {
   "display_name": "Python 3",
   "language": "python",
   "name": "python3"
  },
  "language_info": {
   "codemirror_mode": {
    "name": "ipython",
    "version": 3
   },
   "file_extension": ".py",
   "mimetype": "text/x-python",
   "name": "python",
   "nbconvert_exporter": "python",
   "pygments_lexer": "ipython3",
   "version": "3.7.5"
  }
 },
 "nbformat": 4,
 "nbformat_minor": 2
}
