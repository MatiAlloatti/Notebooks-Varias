{
 "cells": [
  {
   "cell_type": "markdown",
   "metadata": {},
   "source": [
    "Matías Alloatti - 2020\n",
    "This notebook was done compiling tutorials from:\n",
    "1. https://pytorch.org/tutorials/\n",
    "2. https://jhui.github.io/2018/02/09/PyTorch-Basic-operations/"
   ]
  },
  {
   "cell_type": "markdown",
   "metadata": {},
   "source": [
    "# What is PyTorch?\n",
    "\n",
    "## It’s a Python-based scientific computing package targeted at two sets of audiences:\n",
    "\n",
    "    A replacement for NumPy to use the power of GPUs\n",
    "    a deep learning research platform that provides maximum flexibility and speed\n",
    "    \n",
    "#### The torch package contains data structures for multi-dimensional tensors and mathematical operations. Additionally, it provides many utilities for efficient serializing of Tensors, arbitrary types, and other useful utilities. \n",
    "#### It has a CUDA counterpart, that enables you to run your tensor computations on an NVIDIA GPU."
   ]
  },
  {
   "cell_type": "code",
   "execution_count": 2,
   "metadata": {},
   "outputs": [],
   "source": [
    "# base library:\n",
    "import torch"
   ]
  },
  {
   "cell_type": "code",
   "execution_count": 3,
   "metadata": {},
   "outputs": [
    {
     "name": "stdout",
     "output_type": "stream",
     "text": [
      "tensor([[1.7088e-04, 1.4586e-19, 4.0556e-08],\n",
      "        [2.5892e-12, 4.0285e-11, 2.6706e-06],\n",
      "        [1.1704e-19, 1.3563e-19, 1.3563e-19],\n",
      "        [4.5071e+16, 1.6612e-04, 2.6179e-12],\n",
      "        [4.0058e-11, 4.2187e-08, 5.8253e-10]])\n"
     ]
    }
   ],
   "source": [
    "# Construct a 5x3 matrix, uninitialized:\n",
    "x = torch.empty(5, 3)\n",
    "print(x)\n",
    "# values in the allocated memory will appear as the initial values when an uninitialized matrix is created."
   ]
  },
  {
   "cell_type": "code",
   "execution_count": 4,
   "metadata": {},
   "outputs": [
    {
     "name": "stdout",
     "output_type": "stream",
     "text": [
      "random numbers (uniform distribution):\n",
      " tensor([[0.7576, 0.2793, 0.4031],\n",
      "        [0.7347, 0.0293, 0.7999],\n",
      "        [0.3971, 0.7544, 0.5695],\n",
      "        [0.4388, 0.6387, 0.5247],\n",
      "        [0.6826, 0.3051, 0.4635]])\n",
      "\n",
      "random numbers (normal distribution):\n",
      " tensor([[-1.8349, -2.2149,  0.0436,  1.3240, -0.1005],\n",
      "        [ 0.6443,  0.5244,  1.0157,  0.2571, -0.9013]])\n",
      "\n",
      "random permutations (integers from 0 to 3):\n",
      " tensor([1, 3, 2, 0])\n"
     ]
    }
   ],
   "source": [
    "# Construct a randomly initialized Tensor:\n",
    "# note: to increase the reproducibility of result, we often set the random seed to a specific value first\n",
    "torch.manual_seed(1)\n",
    "x = torch.rand(5, 3)            # Initialize with random numbers (uniform distribution)\n",
    "print('random numbers (uniform distribution):\\n', x)\n",
    "y = torch.randn(2, 5)           # Initialize with random numbers (normal distribution (SD=1, mean=0))\n",
    "print('\\nrandom numbers (normal distribution):\\n',  y)\n",
    "z = torch.randperm(4)           # Size 4. Random permutation of integers from 0 to 3\n",
    "print('\\nrandom permutations (integers from 0 to 3):\\n', z)"
   ]
  },
  {
   "cell_type": "code",
   "execution_count": 5,
   "metadata": {},
   "outputs": [
    {
     "name": "stdout",
     "output_type": "stream",
     "text": [
      "tensor([[0, 0, 0],\n",
      "        [0, 0, 0],\n",
      "        [0, 0, 0],\n",
      "        [0, 0, 0],\n",
      "        [0, 0, 0]]) torch.LongTensor\n",
      "\n",
      " tensor([[0., 0., 0.],\n",
      "        [0., 0., 0.],\n",
      "        [0., 0., 0.],\n",
      "        [0., 0., 0.],\n",
      "        [0., 0., 0.]]) torch.FloatTensor\n"
     ]
    }
   ],
   "source": [
    "# Construct a matrix filled zeros and of dtype long:\n",
    "x = torch.zeros(5, 3, dtype=torch.long)\n",
    "print(x,x.type())\n",
    "# Type can also be specified by .type()\n",
    "x = x.type(torch.float)\n",
    "print('\\n',x,x.type())"
   ]
  },
  {
   "cell_type": "code",
   "execution_count": 6,
   "metadata": {},
   "outputs": [
    {
     "name": "stdout",
     "output_type": "stream",
     "text": [
      "identity:\n",
      " tensor([[1., 0., 0.],\n",
      "        [0., 1., 0.],\n",
      "        [0., 0., 1.]])\n",
      "\n",
      "ones size 10:\n",
      " tensor([1., 1., 1., 1., 1., 1., 1., 1., 1., 1.])\n",
      "\n",
      "ones size 2x2x2x2:\n",
      " tensor([[[[1., 1.],\n",
      "          [1., 1.]],\n",
      "\n",
      "         [[1., 1.],\n",
      "          [1., 1.]]],\n",
      "\n",
      "\n",
      "        [[[1., 1.],\n",
      "          [1., 1.]],\n",
      "\n",
      "         [[1., 1.],\n",
      "          [1., 1.]]]])\n",
      "\n",
      "ones with size of first matrix:\n",
      " tensor([[1., 1., 1.],\n",
      "        [1., 1., 1.],\n",
      "        [1., 1., 1.]])\n",
      "\n",
      "zeros size 10:\n",
      " tensor([0., 0., 0., 0., 0., 0., 0., 0., 0., 0.])\n"
     ]
    }
   ],
   "source": [
    "# Identity matrices, tensors filled with zeros or ones\n",
    "eye = torch.eye(3)               # create an identity 3x3 Tensor\n",
    "print('identity:\\n', eye)\n",
    "x1 = torch.ones(10)              # a Tensor of size 10 containing all ones\n",
    "print('\\nones size 10:\\n',x1)\n",
    "x2 = torch.ones(2, 2, 2, 2)         # a Tensor with size 2x2x2\n",
    "print('\\nones size 2x2x2x2:\\n',x2)\n",
    "x3 = torch.ones_like(eye)        # a Tensor with same shape as eye filled with ones\n",
    "print('\\nones with size of first matrix:\\n',x3)\n",
    "y = torch.zeros(10)              # a Tensor of size 10 containing all zeros\n",
    "print('\\nzeros size 10:\\n',y)"
   ]
  },
  {
   "cell_type": "code",
   "execution_count": 28,
   "metadata": {},
   "outputs": [
    {
     "name": "stdout",
     "output_type": "stream",
     "text": [
      " tensor([[1., 1., 1.],\n",
      "        [2., 2., 2.],\n",
      "        [3., 3., 3.]])\n",
      "\n",
      "Range Tensors:\n",
      " tensor([0, 1, 2, 3, 4])\n",
      "\n",
      " tensor([0, 1, 2, 3, 4])\n",
      "\n",
      " tensor([[0, 1, 2],\n",
      "        [3, 4, 5],\n",
      "        [6, 7, 8]])\n"
     ]
    }
   ],
   "source": [
    "# a 3x3 Tensor with rows: [1,1,1],[2,2,2] and [3,3,3] using .fill_() function\n",
    "x = torch.ones(3, 3) # 1  1  1\n",
    "x[1].fill_(2)        # 2  2  2\n",
    "x[2].fill_(3)        # 3  3  3\n",
    "print('',x)\n",
    "\n",
    "# initialize Tensor with a range of value\n",
    "y1 = torch.arange(5)             # similar to range(5) but creating a Tensor\n",
    "print('\\nRange Tensors:\\n',y1)\n",
    "y2 = torch.arange(0, 5, step=1)  # size 5. Similar to range(0, 5, 1)\n",
    "print('\\n',y2)\n",
    "# a 3x3 Tensor with 0-8 values:\n",
    "z = torch.arange(9)\n",
    "z = z.view(3, 3)\n",
    "print('\\n',z)"
   ]
  },
  {
   "cell_type": "code",
   "execution_count": null,
   "metadata": {},
   "outputs": [],
   "source": [
    "# Construct a tensor directly from data:\n",
    "x = torch.tensor([[5.5, 3],[4,5],[6,7]], dtype=torch.long)\n",
    "y1 = torch.Tensor(2,3)                      # an un-initialized torch.FloatTensor of size 2x3\n",
    "y2 = torch.Tensor([[1,2],[4,5]])            # a Tensor initialized with a specific array\n",
    "z = torch.LongTensor([1,2,3])               # a Tensor of type Long\n",
    "\n",
    "print('x:\\n',x, x.type())\n",
    "print('\\ny1:\\n',y1, y1.type())\n",
    "print('\\ny2:\\n',y2, y2.type())\n",
    "print('\\nz:\\n',z, z.type())\n",
    "\n",
    "# Tensors are FloatTensors by default"
   ]
  },
  {
   "cell_type": "code",
   "execution_count": 8,
   "metadata": {
    "scrolled": true
   },
   "outputs": [
    {
     "name": "stdout",
     "output_type": "stream",
     "text": [
      "x:  tensor([[1., 1., 1.],\n",
      "        [1., 1., 1.],\n",
      "        [1., 1., 1.],\n",
      "        [1., 1., 1.],\n",
      "        [1., 1., 1.]], dtype=torch.float64) \n",
      "\n",
      "y:  tensor([[0., 0., 0.],\n",
      "        [0., 0., 0.],\n",
      "        [0., 0., 0.],\n",
      "        [0., 0., 0.],\n",
      "        [0., 0., 0.]], dtype=torch.float16) \n",
      "\n",
      "tensor([[-0.5404, -2.2102,  2.1130],\n",
      "        [-0.0040,  1.3800, -1.3505],\n",
      "        [ 0.3455,  0.5046,  1.8213],\n",
      "        [-0.1814, -0.9515,  0.4057],\n",
      "        [-1.5164,  0.7322,  2.2820]])\n"
     ]
    }
   ],
   "source": [
    "# Create a tensor based on an existing tensor. \n",
    "# These methods will reuse properties of the input tensor, e.g. dtype, unless new values are provided by user\n",
    "x = x.new_ones(5, 3, dtype=torch.double)      # new_* methods take in sizes\n",
    "y = x.new_zeros(5, 3, dtype=torch.float16)    # new_* methods take in sizes\n",
    "print('x: ',x,'\\n\\ny: ',y,'\\n')\n",
    "\n",
    "x = torch.randn_like(x, dtype=torch.float)    # override dtype!\n",
    "print(x)                                      # result has the same size"
   ]
  },
  {
   "cell_type": "code",
   "execution_count": 9,
   "metadata": {},
   "outputs": [
    {
     "name": "stdout",
     "output_type": "stream",
     "text": [
      " tensor([ 1.,  2.,  3.,  4.,  5.,  6.,  7.,  8.,  9., 10.])\n",
      "\n",
      " tensor([1.0000e-10, 1.0000e-05, 1.0000e+00, 1.0000e+05, 1.0000e+10])\n"
     ]
    }
   ],
   "source": [
    "# linear and log scale Tensors\n",
    "x = torch.linspace(1, 10, steps=10)            # a Tensor with 10 linear points for (1, 10) inclusively\n",
    "print('',x)\n",
    "y = torch.logspace(start=-10, end=10, steps=5) # a Tensor with 5 points: 1.0e-10 1.0e-05 1.0e+00, 1.0e+05, 1.0e+10\n",
    "print('\\n',y)                                  #note that start and end points indicate exponents and not numbers"
   ]
  },
  {
   "cell_type": "code",
   "execution_count": 10,
   "metadata": {},
   "outputs": [
    {
     "name": "stdout",
     "output_type": "stream",
     "text": [
      "size:      torch.Size([10])\n",
      "elements:  10\n",
      "type:      torch.FloatTensor\n"
     ]
    }
   ],
   "source": [
    "# get its size:\n",
    "print('size:     ', x.size())              # torch.Size is a tuple\n",
    "# get its number of total elements\n",
    "print('elements: ', torch.numel(x))    \n",
    "# get its type:\n",
    "print('type:     ', x.type())"
   ]
  },
  {
   "cell_type": "markdown",
   "metadata": {},
   "source": [
    "Tensor types:\n",
    "\n",
    "| Data type | dtype | CPU tensor | GPU tensor |\n",
    "|------|------|------|------|\n",
    "| 32-bit floating point | torch.float32 or torch.float | torch.FloatTensor | torch.cuda.FloatTensor |\n",
    "| 64-bit floating point | torch.float64 or torch.double | torch.DoubleTensor | torch.cuda.DoubleTensor |\n",
    "| 16-bit floating point | torch.float16 or torch.half | torch.HalfTensor | torch.cuda.HalfTensor |\n",
    "| 8-bit integer (unsigned) | torch.uint8 | torch.ByteTensor | torch.cuda.ByteTensor |\n",
    "| 8-bit integer (signed) | torch.int8 | torch.CharTensor | torch.cuda.CharTensor |\n",
    "| 16-bit integer (signed) | torch.int16 or torch.short | torch.ShortTensor | torch.cuda.ShortTensor |\n",
    "| 32-bit integer (signed) | torch.int32 or torch.int | torch.IntTensor | torch.cuda.IntTensor |\n",
    "| 64-bit integer (signed) | torch.int64 or torch.long | torch.LongTensor | torch.cuda.LongTensor |\n",
    "| Boolean | torch.bool | torch.BoolTensor | torch.cuda.BoolTensor |"
   ]
  },
  {
   "cell_type": "markdown",
   "metadata": {},
   "source": [
    "## Operations!"
   ]
  },
  {
   "cell_type": "markdown",
   "metadata": {},
   "source": [
    "### Addition:"
   ]
  },
  {
   "cell_type": "code",
   "execution_count": 11,
   "metadata": {},
   "outputs": [
    {
     "name": "stdout",
     "output_type": "stream",
     "text": [
      "Syn 1: tensor([[1.7720, 1.3828, 1.7442],\n",
      "        [1.5285, 1.6642, 1.6099],\n",
      "        [1.6818, 1.7479, 1.0369],\n",
      "        [1.7517, 1.1484, 1.1227],\n",
      "        [1.5304, 1.4148, 1.7937]]) \n",
      "\n",
      "Syn 2: tensor([[1.7720, 1.3828, 1.7442],\n",
      "        [1.5285, 1.6642, 1.6099],\n",
      "        [1.6818, 1.7479, 1.0369],\n",
      "        [1.7517, 1.1484, 1.1227],\n",
      "        [1.5304, 1.4148, 1.7937]]) \n",
      "\n",
      "Syn 3: tensor([[1.7720, 1.3828, 1.7442],\n",
      "        [1.5285, 1.6642, 1.6099],\n",
      "        [1.6818, 1.7479, 1.0369],\n",
      "        [1.7517, 1.1484, 1.1227],\n",
      "        [1.5304, 1.4148, 1.7937]]) \n",
      "\n",
      "Syn 4: tensor([[1.7720, 1.3828, 1.7442],\n",
      "        [1.5285, 1.6642, 1.6099],\n",
      "        [1.6818, 1.7479, 1.0369],\n",
      "        [1.7517, 1.1484, 1.1227],\n",
      "        [1.5304, 1.4148, 1.7937]]) \n",
      "\n"
     ]
    }
   ],
   "source": [
    "y = torch.rand(5, 3)\n",
    "x = torch.ones(5,3)\n",
    "# print('x:', x)\n",
    "# rint('y:', y)\n",
    "\n",
    "# Syntax 1:\n",
    "print('Syn 1:', x + y, '\\n')\n",
    "\n",
    "# Syntax 2:\n",
    "print('Syn 2:', torch.add(x, y), '\\n')\n",
    "\n",
    "# Syntax 3 (providing an output tensor as argument):\n",
    "result = torch.empty(5, 3)\n",
    "torch.add(x, y, out=result)\n",
    "print('Syn 3:', result, '\\n')\n",
    "\n",
    "# Syntax 4 (adds x to y):\n",
    "y.add_(x)\n",
    "print('Syn 4:', y, '\\n')\n",
    "# Any operation that mutates a tensor in-place is post-fixed with an _. \n",
    "# For example: x.copy_(y), x.t_(), will change x"
   ]
  },
  {
   "cell_type": "markdown",
   "metadata": {},
   "source": [
    "### More operations:"
   ]
  },
  {
   "cell_type": "code",
   "execution_count": 12,
   "metadata": {},
   "outputs": [],
   "source": [
    "# "
   ]
  },
  {
   "cell_type": "markdown",
   "metadata": {},
   "source": [
    "## Indexing, resizing and more!"
   ]
  },
  {
   "cell_type": "code",
   "execution_count": 13,
   "metadata": {},
   "outputs": [
    {
     "name": "stdout",
     "output_type": "stream",
     "text": [
      "tensor([1.3828, 1.6642, 1.7479, 1.1484, 1.4148])\n",
      "tensor([1.5285, 1.6642, 1.6099])\n",
      "tensor([[0.0000, 1.3828, 1.7442],\n",
      "        [0.0000, 1.6642, 1.6099],\n",
      "        [0.0000, 1.7479, 1.0369],\n",
      "        [0.0000, 1.1484, 1.1227],\n",
      "        [0.0000, 1.4148, 1.7937]])\n"
     ]
    }
   ],
   "source": [
    "# You can use standard NumPy-like indexing and goes like a pineapple! ;) \n",
    "print(y[:, 1])\n",
    "print(y[1,:])\n",
    "# also for asignment\n",
    "y[:, 0] = 0\n",
    "print(y)"
   ]
  },
  {
   "cell_type": "code",
   "execution_count": 14,
   "metadata": {},
   "outputs": [
    {
     "name": "stdout",
     "output_type": "stream",
     "text": [
      "torch.Size([4, 4]) torch.Size([16]) torch.Size([2, 8])\n"
     ]
    }
   ],
   "source": [
    "# Resizing: If you want to resize/reshape tensor, you can use torch.view:\n",
    "x = torch.randn(4, 4)\n",
    "y = x.view(16)\n",
    "z = x.view(-1, 8)  # the size -1 is inferred from other dimensions\n",
    "print(x.size(), y.size(), z.size())"
   ]
  },
  {
   "cell_type": "code",
   "execution_count": 15,
   "metadata": {},
   "outputs": [
    {
     "name": "stdout",
     "output_type": "stream",
     "text": [
      "tensor([-1.2080])\n",
      "-1.2080135345458984\n"
     ]
    }
   ],
   "source": [
    "# If you have a one element tensor, use .item() to get the value as a Python number\n",
    "x = torch.randn(1)\n",
    "print(x)\n",
    "print(x.item())"
   ]
  },
  {
   "cell_type": "code",
   "execution_count": 16,
   "metadata": {},
   "outputs": [
    {
     "name": "stdout",
     "output_type": "stream",
     "text": [
      "concatenate (0 dimension):\n",
      " tensor([[1., 2.],\n",
      "        [3., 4.],\n",
      "        [1., 2.],\n",
      "        [3., 4.],\n",
      "        [1., 2.],\n",
      "        [3., 4.]])\n",
      "concatenate (1 dimension):\n",
      " tensor([[1., 2., 1., 2., 1., 2.],\n",
      "        [3., 4., 3., 4., 3., 4.]])\n",
      "\n",
      "stack:  torch.Size([2, 2, 2]) \n",
      " tensor([[[1., 2.],\n",
      "         [3., 4.]],\n",
      "\n",
      "        [[1., 2.],\n",
      "         [3., 4.]]])\n"
     ]
    }
   ],
   "source": [
    "# Concatenation and stacking of Tensors\n",
    "# concatenate 3 tensors:\n",
    "x = torch.Tensor([[1,2],[3,4]])\n",
    "y = torch.cat((x, x, x), 0)          # Concatenate in the 0 dimension\n",
    "print('concatenate (0 dimension):\\n',y)\n",
    "y = torch.cat((x, x, x), 1)          # Concatenate in the 1 dimension\n",
    "print('concatenate (1 dimension):\\n',y)\n",
    "# stack 2 tensors:\n",
    "z = torch.stack((x, x))\n",
    "print('\\nstack: ',z.size(),'\\n',z)"
   ]
  },
  {
   "cell_type": "code",
   "execution_count": 29,
   "metadata": {},
   "outputs": [
    {
     "name": "stdout",
     "output_type": "stream",
     "text": [
      "3 chunks:\n",
      " (tensor([[0, 1, 2]]), tensor([[3, 4, 5]]), tensor([[6, 7, 8]]))\n",
      "2 chunks:\n",
      " (tensor([[0, 1, 2],\n",
      "        [3, 4, 5]]), tensor([[6, 7, 8]]))\n"
     ]
    }
   ],
   "source": [
    "# Split Tensors\n",
    "x= torch.arange(9); x = x.view(3, 3);\n",
    "# split in 3 chunks\n",
    "y = torch.chunk(x, 3)\n",
    "print('3 chunks:\\n',y)\n",
    "# split into chunks of at most size 2\n",
    "y = torch.split(x, 2)\n",
    "print('2 chunks:\\n',y)"
   ]
  },
  {
   "cell_type": "code",
   "execution_count": 50,
   "metadata": {},
   "outputs": [
    {
     "name": "stdout",
     "output_type": "stream",
     "text": [
      "index select:\n",
      " tensor([[0, 2],\n",
      "        [3, 5],\n",
      "        [6, 8]])\n",
      "\n",
      "mask:\n",
      " tensor([[False, False, False],\n",
      "        [ True,  True,  True],\n",
      "        [ True,  True,  True]])\n",
      "\n",
      "mask2:\n",
      " tensor([[False, False, False],\n",
      "        [ True,  True,  True],\n",
      "        [ True,  True,  True]])\n",
      "\n",
      "masked select: tensor([3, 4, 5, 6, 7, 8])\n"
     ]
    }
   ],
   "source": [
    "# Index select, mask select\n",
    "# Index select: selects element 0 and 2 for each dimension 1.\n",
    "indexes = torch.LongTensor([0, 2])      # Indexes to select\n",
    "y = torch.index_select(x, 1, indexes);  # syntax: torch.index_select(input, dimension, indexes) → Tensor\n",
    "print('index select:\\n',y)\n",
    "\n",
    "# Masked select: evaluates which element is >= 3\n",
    "mask = x.ge(3)                             # syntax 1: Tensor=Tensor.ge(other)\n",
    "torch.ge(x,3,out=mask2)                    # syntax 2: torch.ge(input, other, out=None) → Tensor\n",
    "# computes input≥other element-wise. Other can be number or Tensor. out is an optional Tensor\n",
    "# returns a torch.BoolTensor with True at each location where comparison is true.\n",
    "print('\\nmask:\\n', mask)\n",
    "print('\\nmask2:\\n',mask2)\n",
    "z = torch.masked_select(x, mask); print('\\nmasked select:',z)"
   ]
  },
  {
   "cell_type": "code",
   "execution_count": 55,
   "metadata": {},
   "outputs": [
    {
     "name": "stdout",
     "output_type": "stream",
     "text": [
      "x:\n",
      " tensor([[[[1.],\n",
      "          [1.]]],\n",
      "\n",
      "\n",
      "        [[[1.],\n",
      "          [1.]]]])\n",
      "\n",
      "squeezed:\n",
      " tensor([[1., 1.],\n",
      "        [1., 1.]])\n",
      "\n",
      "squeezed with dim 1:\n",
      " tensor([[[1.],\n",
      "         [1.]],\n",
      "\n",
      "        [[1.],\n",
      "         [1.]]])\n",
      "\n",
      "x:\n",
      " tensor([1., 2., 3.])\n",
      "\n",
      "unsqueezed (dim0):\n",
      " tensor([[1., 2., 3.]])\n",
      "\n",
      "unsqueezed (dim1):\n",
      " tensor([[1.],\n",
      "        [2.],\n",
      "        [3.]])\n"
     ]
    }
   ],
   "source": [
    "# Squeeze (basically substracting a dimension)\n",
    "x = torch.ones(2,1,2,1); print('x:\\n',x)                        # Size 2x1x2x1\n",
    "y1 = torch.squeeze(x); print('\\nsqueezed:\\n',y1)                # Size 2x2\n",
    "y2 = torch.squeeze(x, 1);print('\\nsqueezed with dim 1:\\n',y2)   # Squeeze dimension 1: Size 2x2x1\n",
    "\n",
    "# Un-squeeze a dimension (basically adding a dimension)\n",
    "x = torch.Tensor([1, 2, 3]); print('\\nx:\\n',x)                      # Size: 3\n",
    "z1 = torch.unsqueeze(x, 0); print('\\nunsqueezed (dim0):\\n',z1)      # Size: 1x3\n",
    "z2 = torch.unsqueeze(x, 1); print('\\nunsqueezed (dim1):\\n',z2)      # Size: 3x1"
   ]
  },
  {
   "cell_type": "code",
   "execution_count": 168,
   "metadata": {},
   "outputs": [
    {
     "ename": "RuntimeError",
     "evalue": "The size of tensor a (10) must match the size of tensor b (5) at non-singleton dimension 0",
     "output_type": "error",
     "traceback": [
      "\u001b[0;31m---------------------------------------------------------------------------\u001b[0m",
      "\u001b[0;31mRuntimeError\u001b[0m                              Traceback (most recent call last)",
      "\u001b[0;32m<ipython-input-168-abe116885cd0>\u001b[0m in \u001b[0;36m<module>\u001b[0;34m\u001b[0m\n\u001b[0;32m----> 1\u001b[0;31m \u001b[0mx\u001b[0m\u001b[0;34m.\u001b[0m\u001b[0mcopy_\u001b[0m\u001b[0;34m(\u001b[0m\u001b[0my\u001b[0m\u001b[0;34m)\u001b[0m\u001b[0;34m,\u001b[0m \u001b[0mx\u001b[0m\u001b[0;34m.\u001b[0m\u001b[0mt_\u001b[0m\u001b[0;34m(\u001b[0m\u001b[0;34m)\u001b[0m\u001b[0;34m\u001b[0m\u001b[0;34m\u001b[0m\u001b[0m\n\u001b[0m",
      "\u001b[0;31mRuntimeError\u001b[0m: The size of tensor a (10) must match the size of tensor b (5) at non-singleton dimension 0"
     ]
    }
   ],
   "source": [
    "x.copy_(y), x.t_()"
   ]
  },
  {
   "cell_type": "code",
   "execution_count": 49,
   "metadata": {},
   "outputs": [
    {
     "data": {
      "text/plain": [
       "tensor([[0., 0., 0.],\n",
       "        [0., 0., 0.],\n",
       "        [0., 0., 0.],\n",
       "        [0., 0., 0.],\n",
       "        [0., 0., 0.]], dtype=torch.float16)"
      ]
     },
     "execution_count": 49,
     "metadata": {},
     "output_type": "execute_result"
    }
   ],
   "source": [
    "print(x)\n",
    "print(y)"
   ]
  },
  {
   "cell_type": "markdown",
   "metadata": {},
   "source": [
    "### Converting a Torch Tensor to a NumPy array and vice versa is a breeze. \n",
    "#### The Torch Tensor and NumPy array will share their underlying memory locations (if the Torch Tensor is on CPU), and changing one will change the other."
   ]
  },
  {
   "cell_type": "code",
   "execution_count": 27,
   "metadata": {},
   "outputs": [
    {
     "name": "stdout",
     "output_type": "stream",
     "text": [
      "type of a:  <class 'torch.Tensor'>    tensor([1., 1., 1., 1., 1.])\n",
      "type of b:  <class 'numpy.ndarray'>      [1. 1. 1. 1. 1.]\n",
      "\n",
      "Torch Tensor:  tensor([2., 2., 2., 2., 2.])\n",
      "NumPy ndarray:  [2. 2. 2. 2. 2.]\n"
     ]
    }
   ],
   "source": [
    "# Converting Torch Tensor to NumPy ndrray:\n",
    "a = torch.ones(5)\n",
    "b = a.numpy()\n",
    "print('type of a: ',type(a),'  ',a)\n",
    "print('type of b: ',type(b),'    ',b)\n",
    "\n",
    "# When we change the Tensor, the ndarray also changes:\n",
    "a.add_(1)\n",
    "print('\\nTorch Tensor: ',a)\n",
    "print('NumPy ndarray: ',b)"
   ]
  },
  {
   "cell_type": "code",
   "execution_count": 33,
   "metadata": {},
   "outputs": [
    {
     "name": "stdout",
     "output_type": "stream",
     "text": [
      "type of a:  <class 'numpy.ndarray'>    [1. 1. 1. 1. 1.]\n",
      "type of b:  <class 'torch.Tensor'>      tensor([1., 1., 1., 1., 1.], dtype=torch.float64)\n",
      "\n",
      "Torch Tensor:  [2. 2. 2. 2. 2.]\n",
      "NumPy ndarray:  tensor([2., 2., 2., 2., 2.], dtype=torch.float64)\n"
     ]
    }
   ],
   "source": [
    "# Converting NumPy ndrray to Torch Tensor:\n",
    "import numpy as np\n",
    "a = np.ones(5)\n",
    "b = torch.from_numpy(a)\n",
    "print('type of a: ',type(a),'  ',a)\n",
    "print('type of b: ',type(b),'    ',b)\n",
    "\n",
    "# When we change the ndarray, the Tensor also changes:\n",
    "np.add(a, 1, out=a)\n",
    "print('\\nTorch Tensor: ',a)\n",
    "print('NumPy ndarray: ',b)\n",
    "\n",
    "# All the Tensors on the CPU except a CharTensor support converting to NumPy and back."
   ]
  },
  {
   "cell_type": "code",
   "execution_count": null,
   "metadata": {},
   "outputs": [],
   "source": []
  },
  {
   "cell_type": "markdown",
   "metadata": {},
   "source": [
    "### CUDA Tensors"
   ]
  },
  {
   "cell_type": "code",
   "execution_count": 34,
   "metadata": {},
   "outputs": [],
   "source": [
    "# Tensors can be moved onto any device using the .to method.\n",
    "\n",
    "# We will use ``torch.device`` objects to move tensors in and out of GPU\n",
    "if torch.cuda.is_available():\n",
    "    device = torch.device(\"cuda\")          # a CUDA device object\n",
    "    y = torch.ones_like(x, device=device)  # directly create a tensor on GPU\n",
    "    x = x.to(device)                       # or just use strings ``.to(\"cuda\")``\n",
    "    z = x + y\n",
    "    print(z)\n",
    "    print(z.to(\"cpu\", torch.double))       # ``.to`` can also change dtype together!"
   ]
  },
  {
   "cell_type": "markdown",
   "metadata": {},
   "source": []
  },
  {
   "cell_type": "code",
   "execution_count": null,
   "metadata": {},
   "outputs": [],
   "source": []
  },
  {
   "cell_type": "code",
   "execution_count": null,
   "metadata": {},
   "outputs": [],
   "source": []
  },
  {
   "cell_type": "code",
   "execution_count": null,
   "metadata": {},
   "outputs": [],
   "source": []
  },
  {
   "cell_type": "code",
   "execution_count": null,
   "metadata": {},
   "outputs": [],
   "source": []
  },
  {
   "cell_type": "markdown",
   "metadata": {},
   "source": []
  },
  {
   "cell_type": "code",
   "execution_count": null,
   "metadata": {},
   "outputs": [],
   "source": []
  },
  {
   "cell_type": "code",
   "execution_count": null,
   "metadata": {},
   "outputs": [],
   "source": []
  },
  {
   "cell_type": "markdown",
   "metadata": {},
   "source": []
  },
  {
   "cell_type": "code",
   "execution_count": null,
   "metadata": {},
   "outputs": [],
   "source": []
  },
  {
   "cell_type": "code",
   "execution_count": null,
   "metadata": {},
   "outputs": [],
   "source": []
  },
  {
   "cell_type": "markdown",
   "metadata": {},
   "source": []
  },
  {
   "cell_type": "code",
   "execution_count": null,
   "metadata": {},
   "outputs": [],
   "source": []
  },
  {
   "cell_type": "code",
   "execution_count": null,
   "metadata": {},
   "outputs": [],
   "source": []
  }
 ],
 "metadata": {
  "kernelspec": {
   "display_name": "Python 3",
   "language": "python",
   "name": "python3"
  },
  "language_info": {
   "codemirror_mode": {
    "name": "ipython",
    "version": 3
   },
   "file_extension": ".py",
   "mimetype": "text/x-python",
   "name": "python",
   "nbconvert_exporter": "python",
   "pygments_lexer": "ipython3",
   "version": "3.7.5"
  }
 },
 "nbformat": 4,
 "nbformat_minor": 2
}
