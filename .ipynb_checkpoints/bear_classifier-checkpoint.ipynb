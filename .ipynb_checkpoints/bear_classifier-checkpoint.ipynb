{
 "cells": [
  {
   "cell_type": "code",
   "execution_count": 13,
   "metadata": {},
   "outputs": [],
   "source": [
    "from fastai.vision import *\n",
    "from fastai import *\n",
    "from fastai.widgets import *\n",
    "import glob, os\n",
    "root_dir = \"/storage/notebooks/\"\n",
    "base_dir = root_dir + 'Bears/Data'\n",
    "path = Path(base_dir)\n",
    "path_test=Path(root_dir + 'Bears/test_set')\n",
    "# classes = ['teddy','grizzly','black','polar','panda']\n",
    "np.random.seed(42)\n",
    "data = ImageDataBunch.from_folder(path, train=\".\", valid_pct=0.2,ds_tfms=get_transforms(), size=224, num_workers=4).normalize(imagenet_stats)\n",
    "learn = cnn_learner(data, models.resnet34, metrics=error_rate)\n",
    "learn.load('stage-1');"
   ]
  },
  {
   "cell_type": "code",
   "execution_count": 19,
   "metadata": {},
   "outputs": [
    {
     "name": "stdout",
     "output_type": "stream",
     "text": [
      "Nombre de la imagen: 00000156.jpg\n",
      "grizzly\n"
     ]
    }
   ],
   "source": [
    "imgN = input(\"Nombre de la imagen: \") \n",
    "img = open_image(path_test/imgN)\n",
    "pred_class,pred_idx,outputs = learn.predict(img)\n",
    "print(pred_class)"
   ]
  },
  {
   "cell_type": "code",
   "execution_count": null,
   "metadata": {},
   "outputs": [],
   "source": []
  }
 ],
 "metadata": {
  "kernelspec": {
   "display_name": "Python 3",
   "language": "python",
   "name": "python3"
  },
  "language_info": {
   "codemirror_mode": {
    "name": "ipython",
    "version": 3
   },
   "file_extension": ".py",
   "mimetype": "text/x-python",
   "name": "python",
   "nbconvert_exporter": "python",
   "pygments_lexer": "ipython3",
   "version": "3.6.8"
  }
 },
 "nbformat": 4,
 "nbformat_minor": 2
}
